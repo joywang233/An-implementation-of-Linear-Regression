{
 "cells": [
  {
   "cell_type": "markdown",
   "metadata": {},
   "source": [
    "### Question:\n",
    "What do housing-market indicators say about the socio-economic conditions in different geographical locations, and how can they be used to provide forecasts of future economic conditions?\n",
    "\n",
    "**Scenario:** USA and Australia are two popular counties for **property investment** on the global wide. As a **property consultant**(My part-time job), I would like to know, what are the correlations bettwen **property market** and the **general socio-economic conditions** for the two countries. \n",
    "\n",
    "More importantly, since the world is been through covid-19 crisis, I would like to investigate how the housing market is affected by  **national crisis**, for example, **2008 financial crisis**. Based on the history, I could get some insights on **how the property market will be infected by the current covid-19 crisis** and give my customers some suggestion on the curret situation."
   ]
  },
  {
   "cell_type": "markdown",
   "metadata": {},
   "source": [
    "### Data:\n",
    "\n",
    "The datasets used in this question are described as follows:\n",
    "- **GDP**:The general indicator of a country's socio-economic conditions.\n",
    "- **Norminated House Price**: A direct indicator of a country's housing market.  \n",
    "- **Long-term Interest Rate**: A very important indicator for investers/buyers. Also, during crisis, interst rate can be an effective way for goverment to rescue the market.\n",
    "\n",
    "All the datasets are sources from http://www.oecd.org/ \n"
   ]
  },
  {
   "cell_type": "code",
   "execution_count": 36,
   "metadata": {},
   "outputs": [],
   "source": [
    "# Import the library for data manipulation and plot\n",
    "import pandas as pd               \n",
    "import matplotlib.pyplot as plt  \n",
    "import datetime"
   ]
  },
  {
   "cell_type": "code",
   "execution_count": 37,
   "metadata": {
    "scrolled": true
   },
   "outputs": [
    {
     "name": "stdout",
     "output_type": "stream",
     "text": [
      "<bound method NDFrame.head of     LOCATION INDICATOR SUBJECT   MEASURE FREQUENCY       TIME     Value  \\\n",
      "0        AUS      QGDP     TOT  PC_CHGPP         Q 1990-04-01  0.134418   \n",
      "1        AUS      QGDP     TOT  PC_CHGPP         Q 1990-07-01 -0.590346   \n",
      "2        AUS      QGDP     TOT  PC_CHGPP         Q 1990-10-01  0.579294   \n",
      "3        AUS      QGDP     TOT  PC_CHGPP         Q 1991-01-01 -1.292161   \n",
      "4        AUS      QGDP     TOT  PC_CHGPP         Q 1991-04-01 -0.132475   \n",
      "..       ...       ...     ...       ...       ...        ...       ...   \n",
      "233      USA      QGDP     TOT  PC_CHGPP         Q 2018-10-01  0.271333   \n",
      "234      USA      QGDP     TOT  PC_CHGPP         Q 2019-01-01  0.765207   \n",
      "235      USA      QGDP     TOT  PC_CHGPP         Q 2019-04-01  0.499697   \n",
      "236      USA      QGDP     TOT  PC_CHGPP         Q 2019-07-01  0.521779   \n",
      "237      USA      QGDP     TOT  PC_CHGPP         Q 2019-10-01  0.527469   \n",
      "\n",
      "     Flag Codes  \n",
      "0           NaN  \n",
      "1           NaN  \n",
      "2           NaN  \n",
      "3           NaN  \n",
      "4           NaN  \n",
      "..          ...  \n",
      "233         NaN  \n",
      "234         NaN  \n",
      "235         NaN  \n",
      "236         NaN  \n",
      "237         NaN  \n",
      "\n",
      "[238 rows x 8 columns]>\n",
      "<bound method NDFrame.head of     LOCATION  INDICATOR  SUBJECT  MEASURE FREQUENCY       TIME       Value  \\\n",
      "0        AUS  HOUSECOST  NOMINAL  IDX2015         Q 1990-10-01   22.915779   \n",
      "1        AUS  HOUSECOST  NOMINAL  IDX2015         Q 1991-01-01   22.951014   \n",
      "2        AUS  HOUSECOST  NOMINAL  IDX2015         Q 1991-04-01   23.236291   \n",
      "3        AUS  HOUSECOST  NOMINAL  IDX2015         Q 1991-07-01   24.002799   \n",
      "4        AUS  HOUSECOST  NOMINAL  IDX2015         Q 1991-10-01   23.925783   \n",
      "..       ...        ...      ...      ...       ...        ...         ...   \n",
      "229      USA  HOUSECOST  NOMINAL  IDX2015         Q 2018-10-01  122.249717   \n",
      "230      USA  HOUSECOST  NOMINAL  IDX2015         Q 2019-01-01  123.928679   \n",
      "231      USA  HOUSECOST  NOMINAL  IDX2015         Q 2019-04-01  125.357878   \n",
      "232      USA  HOUSECOST  NOMINAL  IDX2015         Q 2019-07-01  126.879582   \n",
      "233      USA  HOUSECOST  NOMINAL  IDX2015         Q 2019-10-01  128.479915   \n",
      "\n",
      "     Flag Codes  \n",
      "0           NaN  \n",
      "1           NaN  \n",
      "2           NaN  \n",
      "3           NaN  \n",
      "4           NaN  \n",
      "..          ...  \n",
      "229         NaN  \n",
      "230         NaN  \n",
      "231         NaN  \n",
      "232         NaN  \n",
      "233         NaN  \n",
      "\n",
      "[234 rows x 8 columns]>\n"
     ]
    },
    {
     "data": {
      "text/plain": [
       "<bound method NDFrame.head of     LOCATION INDICATOR SUBJECT MEASURE FREQUENCY       TIME      Value  \\\n",
       "0        AUS     LTINT     TOT   PC_PA         Q 1990-10-01  12.550000   \n",
       "1        AUS     LTINT     TOT   PC_PA         Q 1991-01-01  11.476670   \n",
       "2        AUS     LTINT     TOT   PC_PA         Q 1991-04-01  10.966670   \n",
       "3        AUS     LTINT     TOT   PC_PA         Q 1991-07-01  10.656670   \n",
       "4        AUS     LTINT     TOT   PC_PA         Q 1991-10-01   9.663333   \n",
       "..       ...       ...     ...     ...       ...        ...        ...   \n",
       "231      USA     LTINT     TOT   PC_PA         Q 2019-01-01   2.653333   \n",
       "232      USA     LTINT     TOT   PC_PA         Q 2019-04-01   2.333333   \n",
       "233      USA     LTINT     TOT   PC_PA         Q 2019-07-01   1.796667   \n",
       "234      USA     LTINT     TOT   PC_PA         Q 2019-10-01   1.793333   \n",
       "235      USA     LTINT     TOT   PC_PA         Q 2020-01-01   1.376667   \n",
       "\n",
       "     Flag Codes  \n",
       "0           NaN  \n",
       "1           NaN  \n",
       "2           NaN  \n",
       "3           NaN  \n",
       "4           NaN  \n",
       "..          ...  \n",
       "231         NaN  \n",
       "232         NaN  \n",
       "233         NaN  \n",
       "234         NaN  \n",
       "235         NaN  \n",
       "\n",
       "[236 rows x 8 columns]>"
      ]
     },
     "execution_count": 37,
     "metadata": {},
     "output_type": "execute_result"
    }
   ],
   "source": [
    "#Read the file and observe the data \n",
    "#Decide the data cleanning strategy\n",
    "\n",
    "gdp_data = pd.read_csv('GDP_quertly.csv', parse_dates=['TIME'], infer_datetime_format=True)\n",
    "print(gdp_data.head)\n",
    "\n",
    "price_data = pd.read_csv('house_price_quertly.csv', parse_dates=['TIME'], infer_datetime_format=True)\n",
    "print(price_data.head)\n",
    "\n",
    "interet_data = pd.read_csv('interest_rate_quertly.csv', parse_dates=['TIME'], infer_datetime_format=True)\n",
    "interet_data.head"
   ]
  },
  {
   "cell_type": "code",
   "execution_count": 38,
   "metadata": {
    "scrolled": true
   },
   "outputs": [
    {
     "name": "stdout",
     "output_type": "stream",
     "text": [
      "<class 'pandas.core.frame.DataFrame'>\n",
      "RangeIndex: 238 entries, 0 to 237\n",
      "Data columns (total 8 columns):\n",
      "LOCATION      238 non-null object\n",
      "INDICATOR     238 non-null object\n",
      "SUBJECT       238 non-null object\n",
      "MEASURE       238 non-null object\n",
      "FREQUENCY     238 non-null object\n",
      "TIME          238 non-null datetime64[ns]\n",
      "Value         238 non-null float64\n",
      "Flag Codes    0 non-null float64\n",
      "dtypes: datetime64[ns](1), float64(2), object(5)\n",
      "memory usage: 15.0+ KB\n",
      "<class 'pandas.core.frame.DataFrame'>\n",
      "RangeIndex: 234 entries, 0 to 233\n",
      "Data columns (total 8 columns):\n",
      "LOCATION      234 non-null object\n",
      "INDICATOR     234 non-null object\n",
      "SUBJECT       234 non-null object\n",
      "MEASURE       234 non-null object\n",
      "FREQUENCY     234 non-null object\n",
      "TIME          234 non-null datetime64[ns]\n",
      "Value         234 non-null float64\n",
      "Flag Codes    0 non-null float64\n",
      "dtypes: datetime64[ns](1), float64(2), object(5)\n",
      "memory usage: 14.8+ KB\n",
      "<class 'pandas.core.frame.DataFrame'>\n",
      "RangeIndex: 236 entries, 0 to 235\n",
      "Data columns (total 8 columns):\n",
      "LOCATION      236 non-null object\n",
      "INDICATOR     236 non-null object\n",
      "SUBJECT       236 non-null object\n",
      "MEASURE       236 non-null object\n",
      "FREQUENCY     236 non-null object\n",
      "TIME          236 non-null datetime64[ns]\n",
      "Value         236 non-null float64\n",
      "Flag Codes    0 non-null float64\n",
      "dtypes: datetime64[ns](1), float64(2), object(5)\n",
      "memory usage: 14.9+ KB\n"
     ]
    }
   ],
   "source": [
    "gdp_data.info()\n",
    "price_data.info()\n",
    "interet_data.info()"
   ]
  },
  {
   "cell_type": "code",
   "execution_count": 39,
   "metadata": {},
   "outputs": [
    {
     "name": "stdout",
     "output_type": "stream",
     "text": [
      "['AUS' 'USA']\n",
      "['AUS' 'USA']\n",
      "['AUS' 'USA']\n"
     ]
    }
   ],
   "source": [
    "#get the locations of the dataset\n",
    "print(gdp_data['LOCATION'].unique())\n",
    "print(price_data['LOCATION'].unique())\n",
    "print(interet_data['LOCATION'].unique())"
   ]
  },
  {
   "cell_type": "markdown",
   "metadata": {},
   "source": [
    "### Data cleanning\n",
    "From observation we found that:\n",
    "1. The three seperate datasets describe the GDP, House price and Interest rate **in quartly** for Australia and USA during the past 20 years. \n",
    "2. The datasets are **relatively clean**: there is no null values in our datasets, but the number of objects in each dataset is slightly different.\n",
    "3. Each dataset contains servaral **redundant columns** that needs to be removed.  \n",
    "4. The key of the data sets are the same, which can be used to **merge the three dataset into one**. "
   ]
  },
  {
   "cell_type": "code",
   "execution_count": 40,
   "metadata": {
    "scrolled": true
   },
   "outputs": [
    {
     "name": "stdout",
     "output_type": "stream",
     "text": [
      "    LOCATION       TIME       GDP  House_price  Interest_rate\n",
      "0        AUS 1990-10-01  0.579294    22.915779      12.550000\n",
      "1        AUS 1991-01-01 -1.292161    22.951014      11.476670\n",
      "2        AUS 1991-04-01 -0.132475    23.236291      10.966670\n",
      "3        AUS 1991-07-01  0.414660    24.002799      10.656670\n",
      "4        AUS 1991-10-01  0.069077    23.925783       9.663333\n",
      "..       ...        ...       ...          ...            ...\n",
      "229      USA 2018-10-01  0.271333   122.249717       3.033333\n",
      "230      USA 2019-01-01  0.765207   123.928679       2.653333\n",
      "231      USA 2019-04-01  0.499697   125.357878       2.333333\n",
      "232      USA 2019-07-01  0.521779   126.879582       1.796667\n",
      "233      USA 2019-10-01  0.527469   128.479915       1.793333\n",
      "\n",
      "[234 rows x 5 columns]\n",
      "[1990 1991 1992 1993 1994 1995 1996 1997 1998 1999 2000 2001 2002 2003\n",
      " 2004 2005 2006 2007 2008 2009 2010 2011 2012 2013 2014 2015 2016 2017\n",
      " 2018 2019]\n",
      "<class 'pandas.core.frame.DataFrame'>\n",
      "Int64Index: 234 entries, 0 to 233\n",
      "Data columns (total 5 columns):\n",
      "LOCATION         234 non-null object\n",
      "TIME             234 non-null datetime64[ns]\n",
      "GDP              234 non-null float64\n",
      "House_price      234 non-null float64\n",
      "Interest_rate    234 non-null float64\n",
      "dtypes: datetime64[ns](1), float64(3), object(1)\n",
      "memory usage: 11.0+ KB\n"
     ]
    }
   ],
   "source": [
    "#This csv contains a lot colums that we don't need \n",
    "#Instead of drop columns, we create a subset with only useful columns.\n",
    "subset1 = gdp_data[['LOCATION', 'TIME','Value']]\n",
    "subset2 = price_data[['LOCATION', 'TIME','Value']]\n",
    "subset3= interet_data[['LOCATION', 'TIME','Value']]\n",
    "\n",
    "#Then we join the three datasets into one clean dataset for further analysis\n",
    "# here inner merge will be choose, since inner join use the intersaction of the keys.\n",
    "merge1 = pd.merge(subset1, subset2, how='inner', on=['LOCATION', 'TIME'])\n",
    "clean_data = pd.merge(merge1, subset3,how='inner', on=['LOCATION', 'TIME'])\n",
    "\n",
    "#now we can see there are only AUS and USA data \n",
    "#we change the col name to make it clear\n",
    "clean_data = clean_data.rename(columns={'Value_x': 'GDP', 'Value_y': 'House_price', 'Value':'Interest_rate'})\n",
    "print(clean_data)\n",
    "\n",
    "#get all the unique dates (if there are more than what we can count)\n",
    "all_dates = clean_data.loc[:, 'TIME'].dt.year.unique()\n",
    "print(all_dates)\n",
    "\n",
    "#check is there any null value in the clean dataset by print data-info\n",
    "clean_data.info()"
   ]
  },
  {
   "cell_type": "code",
   "execution_count": 41,
   "metadata": {},
   "outputs": [
    {
     "data": {
      "text/html": [
       "<div>\n",
       "<style scoped>\n",
       "    .dataframe tbody tr th:only-of-type {\n",
       "        vertical-align: middle;\n",
       "    }\n",
       "\n",
       "    .dataframe tbody tr th {\n",
       "        vertical-align: top;\n",
       "    }\n",
       "\n",
       "    .dataframe thead th {\n",
       "        text-align: right;\n",
       "    }\n",
       "</style>\n",
       "<table border=\"1\" class=\"dataframe\">\n",
       "  <thead>\n",
       "    <tr style=\"text-align: right;\">\n",
       "      <th></th>\n",
       "      <th>LOCATION</th>\n",
       "      <th>TIME</th>\n",
       "      <th>GDP</th>\n",
       "      <th>House_price</th>\n",
       "      <th>Interest_rate</th>\n",
       "      <th>Year</th>\n",
       "    </tr>\n",
       "  </thead>\n",
       "  <tbody>\n",
       "    <tr>\n",
       "      <th>0</th>\n",
       "      <td>AUS</td>\n",
       "      <td>1990-10-01</td>\n",
       "      <td>0.579294</td>\n",
       "      <td>22.915779</td>\n",
       "      <td>12.550000</td>\n",
       "      <td>1990</td>\n",
       "    </tr>\n",
       "    <tr>\n",
       "      <th>1</th>\n",
       "      <td>AUS</td>\n",
       "      <td>1991-01-01</td>\n",
       "      <td>-1.292161</td>\n",
       "      <td>22.951014</td>\n",
       "      <td>11.476670</td>\n",
       "      <td>1991</td>\n",
       "    </tr>\n",
       "    <tr>\n",
       "      <th>2</th>\n",
       "      <td>AUS</td>\n",
       "      <td>1991-04-01</td>\n",
       "      <td>-0.132475</td>\n",
       "      <td>23.236291</td>\n",
       "      <td>10.966670</td>\n",
       "      <td>1991</td>\n",
       "    </tr>\n",
       "    <tr>\n",
       "      <th>3</th>\n",
       "      <td>AUS</td>\n",
       "      <td>1991-07-01</td>\n",
       "      <td>0.414660</td>\n",
       "      <td>24.002799</td>\n",
       "      <td>10.656670</td>\n",
       "      <td>1991</td>\n",
       "    </tr>\n",
       "    <tr>\n",
       "      <th>4</th>\n",
       "      <td>AUS</td>\n",
       "      <td>1991-10-01</td>\n",
       "      <td>0.069077</td>\n",
       "      <td>23.925783</td>\n",
       "      <td>9.663333</td>\n",
       "      <td>1991</td>\n",
       "    </tr>\n",
       "    <tr>\n",
       "      <th>...</th>\n",
       "      <td>...</td>\n",
       "      <td>...</td>\n",
       "      <td>...</td>\n",
       "      <td>...</td>\n",
       "      <td>...</td>\n",
       "      <td>...</td>\n",
       "    </tr>\n",
       "    <tr>\n",
       "      <th>229</th>\n",
       "      <td>USA</td>\n",
       "      <td>2018-10-01</td>\n",
       "      <td>0.271333</td>\n",
       "      <td>122.249717</td>\n",
       "      <td>3.033333</td>\n",
       "      <td>2018</td>\n",
       "    </tr>\n",
       "    <tr>\n",
       "      <th>230</th>\n",
       "      <td>USA</td>\n",
       "      <td>2019-01-01</td>\n",
       "      <td>0.765207</td>\n",
       "      <td>123.928679</td>\n",
       "      <td>2.653333</td>\n",
       "      <td>2019</td>\n",
       "    </tr>\n",
       "    <tr>\n",
       "      <th>231</th>\n",
       "      <td>USA</td>\n",
       "      <td>2019-04-01</td>\n",
       "      <td>0.499697</td>\n",
       "      <td>125.357878</td>\n",
       "      <td>2.333333</td>\n",
       "      <td>2019</td>\n",
       "    </tr>\n",
       "    <tr>\n",
       "      <th>232</th>\n",
       "      <td>USA</td>\n",
       "      <td>2019-07-01</td>\n",
       "      <td>0.521779</td>\n",
       "      <td>126.879582</td>\n",
       "      <td>1.796667</td>\n",
       "      <td>2019</td>\n",
       "    </tr>\n",
       "    <tr>\n",
       "      <th>233</th>\n",
       "      <td>USA</td>\n",
       "      <td>2019-10-01</td>\n",
       "      <td>0.527469</td>\n",
       "      <td>128.479915</td>\n",
       "      <td>1.793333</td>\n",
       "      <td>2019</td>\n",
       "    </tr>\n",
       "  </tbody>\n",
       "</table>\n",
       "<p>234 rows × 6 columns</p>\n",
       "</div>"
      ],
      "text/plain": [
       "    LOCATION       TIME       GDP  House_price  Interest_rate  Year\n",
       "0        AUS 1990-10-01  0.579294    22.915779      12.550000  1990\n",
       "1        AUS 1991-01-01 -1.292161    22.951014      11.476670  1991\n",
       "2        AUS 1991-04-01 -0.132475    23.236291      10.966670  1991\n",
       "3        AUS 1991-07-01  0.414660    24.002799      10.656670  1991\n",
       "4        AUS 1991-10-01  0.069077    23.925783       9.663333  1991\n",
       "..       ...        ...       ...          ...            ...   ...\n",
       "229      USA 2018-10-01  0.271333   122.249717       3.033333  2018\n",
       "230      USA 2019-01-01  0.765207   123.928679       2.653333  2019\n",
       "231      USA 2019-04-01  0.499697   125.357878       2.333333  2019\n",
       "232      USA 2019-07-01  0.521779   126.879582       1.796667  2019\n",
       "233      USA 2019-10-01  0.527469   128.479915       1.793333  2019\n",
       "\n",
       "[234 rows x 6 columns]"
      ]
     },
     "execution_count": 41,
     "metadata": {},
     "output_type": "execute_result"
    }
   ],
   "source": [
    "# Since we want to see the overall trend of the dataset, here we create a new column call 'Year' for later manipulation. \n",
    "clean_data['Year'] = clean_data['TIME'].dt.year\n",
    "clean_data"
   ]
  },
  {
   "cell_type": "markdown",
   "metadata": {},
   "source": [
    "### Cleanning\n",
    "\n",
    "- The final clean dataset containes both the **quarterly and annual values** of the GDP, House Price and interest_rate of AUS and USA in the **past 20 years(1990-2019)**\n",
    "\n",
    "- Since we are interested about the **comparison between AUS and USA**, a **further cleanning** will be done to extract the dataset for the two countries, followed by some plots. \n"
   ]
  },
  {
   "cell_type": "code",
   "execution_count": 42,
   "metadata": {},
   "outputs": [
    {
     "name": "stdout",
     "output_type": "stream",
     "text": [
      "117\n",
      "117\n"
     ]
    }
   ],
   "source": [
    "# Now we got a clean dataset with all the values we want for the two countries, the further step is to get the data for AUS and USA and make some plots.\n",
    "#Check whether we have same dimension for the two locations(if there are more than what we can count)\n",
    "Num_AUS = clean_data[(clean_data['LOCATION'] == 'AUS')].count()\n",
    "Num_USA = clean_data[(clean_data['LOCATION'] == 'USA')].count()\n",
    "\n",
    "print(Num_AUS[0])\n",
    "print(Num_USA[0])"
   ]
  },
  {
   "cell_type": "code",
   "execution_count": 43,
   "metadata": {
    "scrolled": true
   },
   "outputs": [],
   "source": [
    "#Set index to location for the loc function, we want to get index for each coutry(AUS/USA)\n",
    "clean_data = clean_data.set_index('LOCATION')\n",
    "#Get index of each country for later plotting\n",
    "AUS_index = clean_data.loc[ 'AUS' , : ]\n",
    "USA_index = clean_data.loc[ 'USA' , : ]"
   ]
  },
  {
   "cell_type": "markdown",
   "metadata": {},
   "source": [
    "### Cleanning\n",
    "- Now we have the two dataset (AUS_index and USA_index )with all three variables for AUS and USA separatly. \n",
    "- Since we want to see the overall trendency and correlation between the variables, instead of using quarterly data, we group the data by year and **calculate the mean value of four quarters as the annual data** "
   ]
  },
  {
   "cell_type": "code",
   "execution_count": 44,
   "metadata": {},
   "outputs": [],
   "source": [
    "#Get the yearly data for AUS\n",
    "AUS_GDP = AUS_index.groupby('Year')['GDP'].mean()\n",
    "AUS_HouPrice = AUS_index.groupby('Year')['House_price'].mean()\n",
    "AUS_intrate = AUS_index.groupby('Year')['Interest_rate'].mean()"
   ]
  },
  {
   "cell_type": "code",
   "execution_count": 45,
   "metadata": {},
   "outputs": [
    {
     "data": {
      "image/png": "[encoded data removed]",
      "text/plain": [
       "<Figure size 432x288 with 1 Axes>"
      ]
     },
     "metadata": {
      "needs_background": "light"
     },
     "output_type": "display_data"
    }
   ],
   "source": [
    "# try to do some plot and inspect the correlations between variables for both AUS and USA.\n",
    "plt.plot(AUS_GDP, color ='red')\n",
    "plt.plot(AUS_HouPrice, color ='yellow') \n",
    "plt.plot(AUS_intrate, color ='blue') \n",
    "plt.title('AUS GDP vs HousePrice vs InterestRate')\n",
    "plt.show()\n"
   ]
  },
  {
   "cell_type": "markdown",
   "metadata": {},
   "source": [
    "### Analysis\n",
    "- It seems that there are **linear correlations** between the three variables of AUS. To further investigate this relationship, we plot it in two axis to **normalize the data scale**."
   ]
  },
  {
   "cell_type": "code",
   "execution_count": 46,
   "metadata": {},
   "outputs": [
    {
     "data": {
      "image/png": "[encoded data removed]",
      "text/plain": [
       "<Figure size 432x288 with 2 Axes>"
      ]
     },
     "metadata": {
      "needs_background": "light"
     },
     "output_type": "display_data"
    }
   ],
   "source": [
    "fig = plt.figure()\n",
    "ax1 = fig.add_subplot(111)\n",
    "ax1.plot(AUS_HouPrice, color ='yellow') \n",
    "\n",
    "ax2 = ax1.twinx()\n",
    "ax2.plot(AUS_GDP, color ='red')\n",
    "ax2.plot(AUS_intrate, color ='blue') \n",
    "\n",
    "plt.title('House Price & GDP vs Interest Rates in AUS')\n",
    "plt.show()"
   ]
  },
  {
   "cell_type": "code",
   "execution_count": 47,
   "metadata": {},
   "outputs": [],
   "source": [
    "#Get the yearly data for USA\n",
    "USA_GDP = USA_index.groupby('Year')['GDP'].mean()\n",
    "USA_HouPrice = USA_index.groupby('Year')['House_price'].mean()\n",
    "USA_intrate = USA_index.groupby('Year')['Interest_rate'].mean()"
   ]
  },
  {
   "cell_type": "code",
   "execution_count": 48,
   "metadata": {},
   "outputs": [
    {
     "data": {
      "image/png": "[encoded data removed]",
      "text/plain": [
       "<Figure size 432x288 with 2 Axes>"
      ]
     },
     "metadata": {
      "needs_background": "light"
     },
     "output_type": "display_data"
    }
   ],
   "source": [
    "# make the plot for USA as well \n",
    "fig = plt.figure()\n",
    "ax1 = fig.add_subplot(111)\n",
    "ax1.plot(USA_HouPrice, color ='yellow') \n",
    "\n",
    "ax2 = ax1.twinx()\n",
    "ax2.plot(USA_GDP, color ='red')\n",
    "ax2.plot(USA_intrate, color ='blue') \n",
    "\n",
    "plt.title('House Price & GDP vs Interest Rates in USA')\n",
    "plt.show()"
   ]
  },
  {
   "cell_type": "markdown",
   "metadata": {},
   "source": [
    "### Interpretations：\n",
    "There are some findings we can get from the two plots above:\n",
    "\n",
    "- General **Linear correlations** can be seen between House_price, GDP and interest_rate (though the directions are different) from both AUS and USA plots. However, the linear correlations are **more obvious of AUS variables**. Later we will build a **linear regression model** to evaluate this correlation. \n",
    "\n",
    "- The interest rate of both AUS and USA have been generally decreasing among the 20 years. For AUS, a **positive linear correlation** can be seen between interest rate and house price, which is consistent with our common knowledge. However, for USA, during around 2007-2011, the **house price dropped along with interest rate**. We assume it is due to the **side effect of the 2008 financial crisis**. People can no longer afford the properties even when the interest rate and price go down.  \n",
    "\n",
    "- There are **more fluctuation of USA plot** than AUS,especially during 2008 financial crisis. It seems that **AUS GDP and house price are less affected by the crisis** compared with USA. To further investigate this finding, a comparison of the data between the two coutries will be made. \n"
   ]
  },
  {
   "cell_type": "code",
   "execution_count": 49,
   "metadata": {},
   "outputs": [
    {
     "data": {
      "image/png": "[encoded data removed]",
      "text/plain": [
       "<Figure size 432x288 with 1 Axes>"
      ]
     },
     "metadata": {
      "needs_background": "light"
     },
     "output_type": "display_data"
    },
    {
     "data": {
      "image/png": "[encoded data removed]",
      "text/plain": [
       "<Figure size 432x288 with 1 Axes>"
      ]
     },
     "metadata": {
      "needs_background": "light"
     },
     "output_type": "display_data"
    }
   ],
   "source": [
    "# To further explore finding2, we will make plots to compare the GDP and House_price between AUS and USA\n",
    "# make the plot to compare the GDP trend over time \n",
    "fig = plt.figure()\n",
    "plt.plot(AUS_GDP, color ='yellow') \n",
    "plt.plot(USA_GDP, color ='blue') \n",
    "plt.title('AUS & USA GDP changes over 20 years')\n",
    "plt.show()\n",
    "\n",
    "# make the plot to compare the house price trend over time \n",
    "fig = plt.figure()\n",
    "plt.plot(AUS_HouPrice, color ='yellow') \n",
    "plt.plot(USA_HouPrice, color ='blue') \n",
    "plt.title('AUS & USA House Price changes over 20 years')\n",
    "plt.show()\n"
   ]
  },
  {
   "cell_type": "markdown",
   "metadata": {},
   "source": [
    "### Interpretations：\n",
    "\n",
    "- From the plots, we can see clearly that there are **huge drops of USA's gdp and house price after 2008 financial crisis**. By contrast, this negative effect are **much smoother for AUS**. Thus, we can say that, compared with USA, **AUS performs better when encourter crisis/risks**. This may because the USA market is much bigger and free than AUS.  \n",
    "\n",
    "- We also want to know what the **mediating role of interest rate** was playing during Australia 2008 financial crisis. This may give us a hint on the future property market trend after covid-19."
   ]
  },
  {
   "cell_type": "code",
   "execution_count": 50,
   "metadata": {},
   "outputs": [
    {
     "data": {
      "text/html": [
       "<div>\n",
       "<style scoped>\n",
       "    .dataframe tbody tr th:only-of-type {\n",
       "        vertical-align: middle;\n",
       "    }\n",
       "\n",
       "    .dataframe tbody tr th {\n",
       "        vertical-align: top;\n",
       "    }\n",
       "\n",
       "    .dataframe thead th {\n",
       "        text-align: right;\n",
       "    }\n",
       "</style>\n",
       "<table border=\"1\" class=\"dataframe\">\n",
       "  <thead>\n",
       "    <tr style=\"text-align: right;\">\n",
       "      <th></th>\n",
       "      <th>TIME</th>\n",
       "      <th>GDP</th>\n",
       "      <th>House_price</th>\n",
       "      <th>Interest_rate</th>\n",
       "      <th>Year</th>\n",
       "    </tr>\n",
       "    <tr>\n",
       "      <th>LOCATION</th>\n",
       "      <th></th>\n",
       "      <th></th>\n",
       "      <th></th>\n",
       "      <th></th>\n",
       "      <th></th>\n",
       "    </tr>\n",
       "  </thead>\n",
       "  <tbody>\n",
       "    <tr>\n",
       "      <th>AUS</th>\n",
       "      <td>2007-01-01</td>\n",
       "      <td>1.489092</td>\n",
       "      <td>63.265735</td>\n",
       "      <td>5.807896</td>\n",
       "      <td>2007</td>\n",
       "    </tr>\n",
       "    <tr>\n",
       "      <th>AUS</th>\n",
       "      <td>2007-04-01</td>\n",
       "      <td>0.586955</td>\n",
       "      <td>65.733730</td>\n",
       "      <td>6.011781</td>\n",
       "      <td>2007</td>\n",
       "    </tr>\n",
       "    <tr>\n",
       "      <th>AUS</th>\n",
       "      <td>2007-07-01</td>\n",
       "      <td>1.116082</td>\n",
       "      <td>68.310055</td>\n",
       "      <td>6.022596</td>\n",
       "      <td>2007</td>\n",
       "    </tr>\n",
       "    <tr>\n",
       "      <th>AUS</th>\n",
       "      <td>2007-10-01</td>\n",
       "      <td>0.500482</td>\n",
       "      <td>70.531545</td>\n",
       "      <td>6.135811</td>\n",
       "      <td>2007</td>\n",
       "    </tr>\n",
       "    <tr>\n",
       "      <th>AUS</th>\n",
       "      <td>2008-01-01</td>\n",
       "      <td>1.131335</td>\n",
       "      <td>71.314318</td>\n",
       "      <td>6.152160</td>\n",
       "      <td>2008</td>\n",
       "    </tr>\n",
       "    <tr>\n",
       "      <th>AUS</th>\n",
       "      <td>2008-04-01</td>\n",
       "      <td>0.222517</td>\n",
       "      <td>70.285282</td>\n",
       "      <td>6.370742</td>\n",
       "      <td>2008</td>\n",
       "    </tr>\n",
       "    <tr>\n",
       "      <th>AUS</th>\n",
       "      <td>2008-07-01</td>\n",
       "      <td>0.778600</td>\n",
       "      <td>69.056732</td>\n",
       "      <td>5.958310</td>\n",
       "      <td>2008</td>\n",
       "    </tr>\n",
       "    <tr>\n",
       "      <th>AUS</th>\n",
       "      <td>2008-10-01</td>\n",
       "      <td>-0.483688</td>\n",
       "      <td>67.754317</td>\n",
       "      <td>4.790564</td>\n",
       "      <td>2008</td>\n",
       "    </tr>\n",
       "    <tr>\n",
       "      <th>AUS</th>\n",
       "      <td>2009-01-01</td>\n",
       "      <td>1.033833</td>\n",
       "      <td>67.965242</td>\n",
       "      <td>4.222159</td>\n",
       "      <td>2009</td>\n",
       "    </tr>\n",
       "    <tr>\n",
       "      <th>AUS</th>\n",
       "      <td>2009-04-01</td>\n",
       "      <td>0.559652</td>\n",
       "      <td>70.426067</td>\n",
       "      <td>5.024317</td>\n",
       "      <td>2009</td>\n",
       "    </tr>\n",
       "    <tr>\n",
       "      <th>AUS</th>\n",
       "      <td>2009-07-01</td>\n",
       "      <td>0.303640</td>\n",
       "      <td>73.841430</td>\n",
       "      <td>5.448237</td>\n",
       "      <td>2009</td>\n",
       "    </tr>\n",
       "    <tr>\n",
       "      <th>AUS</th>\n",
       "      <td>2009-10-01</td>\n",
       "      <td>0.737188</td>\n",
       "      <td>77.452131</td>\n",
       "      <td>5.463333</td>\n",
       "      <td>2009</td>\n",
       "    </tr>\n",
       "  </tbody>\n",
       "</table>\n",
       "</div>"
      ],
      "text/plain": [
       "               TIME       GDP  House_price  Interest_rate  Year\n",
       "LOCATION                                                       \n",
       "AUS      2007-01-01  1.489092    63.265735       5.807896  2007\n",
       "AUS      2007-04-01  0.586955    65.733730       6.011781  2007\n",
       "AUS      2007-07-01  1.116082    68.310055       6.022596  2007\n",
       "AUS      2007-10-01  0.500482    70.531545       6.135811  2007\n",
       "AUS      2008-01-01  1.131335    71.314318       6.152160  2008\n",
       "AUS      2008-04-01  0.222517    70.285282       6.370742  2008\n",
       "AUS      2008-07-01  0.778600    69.056732       5.958310  2008\n",
       "AUS      2008-10-01 -0.483688    67.754317       4.790564  2008\n",
       "AUS      2009-01-01  1.033833    67.965242       4.222159  2009\n",
       "AUS      2009-04-01  0.559652    70.426067       5.024317  2009\n",
       "AUS      2009-07-01  0.303640    73.841430       5.448237  2009\n",
       "AUS      2009-10-01  0.737188    77.452131       5.463333  2009"
      ]
     },
     "execution_count": 50,
     "metadata": {},
     "output_type": "execute_result"
    }
   ],
   "source": [
    "# Extract the data from Australian during 2007 -2009\n",
    "AUS_ThreeYeardata = AUS_index[(AUS_index['TIME'].dt.year > 2006) & (AUS_index['TIME'].dt.year < 2010)]\n",
    "AUS_ThreeYeardata"
   ]
  },
  {
   "cell_type": "code",
   "execution_count": 51,
   "metadata": {},
   "outputs": [
    {
     "data": {
      "image/png": "[encoded data removed]",
      "text/plain": [
       "<Figure size 432x288 with 2 Axes>"
      ]
     },
     "metadata": {
      "needs_background": "light"
     },
     "output_type": "display_data"
    }
   ],
   "source": [
    "# Make plots for the three year data\n",
    "fig = plt.figure()\n",
    "ax1 = fig.add_subplot(111)\n",
    "ax1.plot(AUS_ThreeYeardata['TIME'], AUS_ThreeYeardata['House_price'], color ='yellow') \n",
    "\n",
    "ax2 = ax1.twinx()\n",
    "ax2.plot(AUS_ThreeYeardata['TIME'], AUS_ThreeYeardata['GDP'], color ='red')\n",
    "ax2.plot(AUS_ThreeYeardata['TIME'], AUS_ThreeYeardata['Interest_rate'], color ='blue') \n",
    "\n",
    "plt.title('House Price & GDP & Interest Rates in AUS during 2007-2009')\n",
    "plt.show()\n"
   ]
  },
  {
   "cell_type": "markdown",
   "metadata": {},
   "source": [
    "### Interpretations：\n",
    "- Surprisingly, the interest rate actually has been through **an increase then drop** during the three years around financial crisis. \n",
    "\n",
    "- The GDP started to be affected by financial crisis from 2008 Q2, since the GDP droped from last quarter 1.131335 to 0.222517. Before that, the **interest rate has been rising from 5.8 to 6.3, and remain at a very high level**. \n",
    "\n",
    "- At the same time, the house price increased from 63 to 71 units, which has increased around **2 units** per quarter. This may **allow more speculator come to the market** and cause invisiable high risks for the breakout of financial crisis. \n",
    "\n",
    "- The interest rate started to drop from 2008 Q3 until 2009 Q1. During these months, the house price has been through a drop for **9 months** then started to **soar again** with around **3 units** per quarter. \n",
    "\n",
    "- The fact is that, **although the house price slightly dropped during 2008, the Australian housing market actually prospered shortly after the crisis!**\n"
   ]
  },
  {
   "cell_type": "code",
   "execution_count": 52,
   "metadata": {},
   "outputs": [],
   "source": [
    "# To predict the future socio-economic conditions from housing market indicators,we shall build a linear regression model \n",
    "from sklearn.linear_model import LinearRegression\n",
    "from sklearn.metrics import mean_squared_error, r2_score\n",
    "from sklearn.model_selection import train_test_split"
   ]
  },
  {
   "cell_type": "code",
   "execution_count": 53,
   "metadata": {},
   "outputs": [],
   "source": [
    "# define a function to train and plot a linear regression model for given X,y two variables\n",
    "def train_plot_model(X, y):\n",
    "    X_train, X_test, y_train, y_test = train_test_split(X.values.reshape(-1, 1), y.values.reshape(-1, 1), test_size=0.2, random_state=0)\n",
    "    regressor = LinearRegression()  \n",
    "    regressor.fit(X_train, y_train)\n",
    "    predictions = regressor.predict(X_test)\n",
    "    \n",
    "    print('The linear model is:+ Y = {:.5} + {:.5}X'.format(regressor.intercept_[0], regressor.coef_[0][0]))\n",
    "    print('Coefficients: \\n', regressor.coef_)\n",
    "# The mean squared error\n",
    "    print('Mean squared error: %.2f'\n",
    "          % mean_squared_error(y_test, predictions))\n",
    "# The coefficient of determination: 1 is perfect prediction\n",
    "    print('Coefficient of determination: %.2f'\n",
    "          % r2_score(y_test, predictions))\n",
    "\n",
    "# Plot outputs\n",
    "    plt.scatter(X_test, y_test,  color='black')\n",
    "    plt.plot(X_test, predictions, color='blue', linewidth=3)\n",
    "    plt.xticks(())\n",
    "    plt.yticks(())\n",
    "    plt.show()"
   ]
  },
  {
   "cell_type": "code",
   "execution_count": 54,
   "metadata": {},
   "outputs": [
    {
     "name": "stdout",
     "output_type": "stream",
     "text": [
      "The linear model is:+ Y = 0.91899 + -0.0035797X\n",
      "Coefficients: \n",
      " [[-0.00357967]]\n",
      "Mean squared error: 0.43\n",
      "Coefficient of determination: 0.04\n"
     ]
    },
    {
     "data": {
      "image/png": "[encoded data removed]",
      "text/plain": [
       "<Figure size 432x288 with 1 Axes>"
      ]
     },
     "metadata": {},
     "output_type": "display_data"
    }
   ],
   "source": [
    "# Build a linear regression model of house price and gdp\n",
    "train_plot_model(clean_data[ 'House_price'],clean_data['GDP'] )"
   ]
  },
  {
   "cell_type": "code",
   "execution_count": 55,
   "metadata": {},
   "outputs": [
    {
     "name": "stdout",
     "output_type": "stream",
     "text": [
      "The linear model is:+ Y = 126.49 + -11.284X\n",
      "Coefficients: \n",
      " [[-11.28357541]]\n",
      "Mean squared error: 131.75\n",
      "Coefficient of determination: 0.83\n"
     ]
    },
    {
     "data": {
      "image/png": "[encoded data removed]",
      "text/plain": [
       "<Figure size 432x288 with 1 Axes>"
      ]
     },
     "metadata": {},
     "output_type": "display_data"
    }
   ],
   "source": [
    "# Build a linear regression model of interest rate and house price\n",
    "train_plot_model(clean_data[ 'Interest_rate'],clean_data['House_price'])"
   ]
  },
  {
   "cell_type": "code",
   "execution_count": 56,
   "metadata": {},
   "outputs": [
    {
     "name": "stdout",
     "output_type": "stream",
     "text": [
      "The linear model is:+ Y = 0.55932 + 0.021992X\n",
      "Coefficients: \n",
      " [[0.02199249]]\n",
      "Mean squared error: 0.44\n",
      "Coefficient of determination: 0.02\n"
     ]
    },
    {
     "data": {
      "image/png": "[encoded data removed]",
      "text/plain": [
       "<Figure size 432x288 with 1 Axes>"
      ]
     },
     "metadata": {},
     "output_type": "display_data"
    }
   ],
   "source": [
    "# Build a linear regression model of interest rate and GDP\n",
    "train_plot_model(clean_data[ 'Interest_rate'],clean_data['GDP'] )"
   ]
  },
  {
   "cell_type": "markdown",
   "metadata": {},
   "source": [
    "### Interpretations：\n",
    "\n",
    "- We have printed the **Coefficients,Mean squared error and Coefficient of determination(R2)** between each variable pairs in above. These indicators help us to evaluate the correlations and performance of the models. \n",
    "\n",
    "- Coefficients describe the relationship/direction between a predictor variable and the response variable. Mean Squared Error (MSE) measures the average squared difference between the estimated values and the actual value. Coefficient of determination(R2) indicates the proportion of the variance in the dependent variable (Y) that is predicted by linear regression.\n",
    "\n",
    "- The Coefficients and R2 of 'house_price and GDP' and 'interest rate and GDP' are very small,this indicates that **'house_price' and 'interest rate' may not be the strong/direct indicators of GDP**.\n",
    "\n",
    "- The R2 for 'interest rate and house price'is up to 0.83 which is very close to the perfect fit(100%). Also, the Coefficients for this model is quite high(up to -11), **indicating a strong linear correlation in between**. However, the Mean squared error for this linear regression is also very high (131.75).This may because there are many **outliers** in our dataset. \n"
   ]
  },
  {
   "cell_type": "markdown",
   "metadata": {},
   "source": [
    "\n",
    "### Analysis and discussion\n",
    "\n",
    "- To summarize, from the GDP, interest rate and house price data in the past 20 years we can see that there are linear correlations in between the variables, this can be used for predicting the future socio-economical conditions of a country. \n",
    "\n",
    "- From the comparison of USA and AUS we can see that, AUS were less affected by the global financial crisis, this may because the USA economics is much bigger than AUS. In other ways, We can say that AUS is safer for long term property investment.\n",
    "\n",
    "- Dring 2020 covid-19, the govenrment has took earlier actions to reduce the interest rate and  provide financial assisstance. Based on the analysis from 2008 financial crisis, we predict that there is unlikely a huge drop of house price of AUS property market this time. This gives us more confidence when facing the current situation. Although the market will be, more or less, negatively affected by covid-19, we believe it will recover soon. \n",
    "\n",
    "\n",
    "### Future Work\n",
    "\n",
    "- To improve the performance of our model and predict the future GDP trendency, other stronger indicators(maybe second industry data) can be added to enhence the result. This could be achieved from a multiple linear regression model. \n"
   ]
  },
  {
   "cell_type": "markdown",
   "metadata": {},
   "source": [
    "### References:\n"
   ]
  },
  {
   "cell_type": "markdown",
   "metadata": {},
   "source": [
    "\n",
    "\n",
    "https://towardsdatascience.com/a-beginners-guide-to-linear-regression-in-python-with-scikit-learn-83a8f7ae2b4f\n",
    "\n",
    "https://www.ritchieng.com/machine-learning-evaluate-linear-regression-model/\n"
   ]
  },
  {
   "cell_type": "code",
   "execution_count": null,
   "metadata": {},
   "outputs": [],
   "source": []
  }
 ],
 "metadata": {
  "kernelspec": {
   "display_name": "Python 3",
   "language": "python",
   "name": "python3"
  },
  "language_info": {
   "codemirror_mode": {
    "name": "ipython",
    "version": 3
   },
   "file_extension": ".py",
   "mimetype": "text/x-python",
   "name": "python",
   "nbconvert_exporter": "python",
   "pygments_lexer": "ipython3",
   "version": "3.7.8"
  }
 },
 "nbformat": 4,
 "nbformat_minor": 4
}
